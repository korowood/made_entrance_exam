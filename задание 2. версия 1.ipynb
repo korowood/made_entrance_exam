{
 "cells": [
  {
   "cell_type": "code",
   "execution_count": 1,
   "metadata": {
    "ExecuteTime": {
     "end_time": "2020-08-13T18:42:22.502414Z",
     "start_time": "2020-08-13T18:42:22.449206Z"
    },
    "scrolled": true
   },
   "outputs": [],
   "source": [
    "import pandas as pd\n",
    "\n",
    "train = pd.read_csv('train.csv')\n",
    "test = pd.read_csv('test.csv')\n",
    "user_features = pd.read_csv('user-features.csv')\n",
    "item_features = pd.read_csv('item-features.csv')"
   ]
  },
  {
   "cell_type": "code",
   "execution_count": 6,
   "metadata": {},
   "outputs": [
    {
     "data": {
      "text/html": [
       "<div>\n",
       "<style scoped>\n",
       "    .dataframe tbody tr th:only-of-type {\n",
       "        vertical-align: middle;\n",
       "    }\n",
       "\n",
       "    .dataframe tbody tr th {\n",
       "        vertical-align: top;\n",
       "    }\n",
       "\n",
       "    .dataframe thead th {\n",
       "        text-align: right;\n",
       "    }\n",
       "</style>\n",
       "<table border=\"1\" class=\"dataframe\">\n",
       "  <thead>\n",
       "    <tr style=\"text-align: right;\">\n",
       "      <th></th>\n",
       "      <th>user_id</th>\n",
       "      <th>item_id</th>\n",
       "      <th>like</th>\n",
       "      <th>timestamp</th>\n",
       "    </tr>\n",
       "  </thead>\n",
       "  <tbody>\n",
       "    <tr>\n",
       "      <th>0</th>\n",
       "      <td>140</td>\n",
       "      <td>342</td>\n",
       "      <td>0</td>\n",
       "      <td>1490936622</td>\n",
       "    </tr>\n",
       "    <tr>\n",
       "      <th>1</th>\n",
       "      <td>378</td>\n",
       "      <td>172</td>\n",
       "      <td>1</td>\n",
       "      <td>1490936628</td>\n",
       "    </tr>\n",
       "    <tr>\n",
       "      <th>2</th>\n",
       "      <td>150</td>\n",
       "      <td>182</td>\n",
       "      <td>0</td>\n",
       "      <td>1490936650</td>\n",
       "    </tr>\n",
       "    <tr>\n",
       "      <th>3</th>\n",
       "      <td>455</td>\n",
       "      <td>17</td>\n",
       "      <td>0</td>\n",
       "      <td>1490936704</td>\n",
       "    </tr>\n",
       "    <tr>\n",
       "      <th>4</th>\n",
       "      <td>350</td>\n",
       "      <td>409</td>\n",
       "      <td>0</td>\n",
       "      <td>1490936735</td>\n",
       "    </tr>\n",
       "    <tr>\n",
       "      <th>...</th>\n",
       "      <td>...</td>\n",
       "      <td>...</td>\n",
       "      <td>...</td>\n",
       "      <td>...</td>\n",
       "    </tr>\n",
       "    <tr>\n",
       "      <th>8669</th>\n",
       "      <td>161</td>\n",
       "      <td>312</td>\n",
       "      <td>0</td>\n",
       "      <td>1491215519</td>\n",
       "    </tr>\n",
       "    <tr>\n",
       "      <th>8670</th>\n",
       "      <td>406</td>\n",
       "      <td>208</td>\n",
       "      <td>0</td>\n",
       "      <td>1491215543</td>\n",
       "    </tr>\n",
       "    <tr>\n",
       "      <th>8671</th>\n",
       "      <td>196</td>\n",
       "      <td>43</td>\n",
       "      <td>0</td>\n",
       "      <td>1491215576</td>\n",
       "    </tr>\n",
       "    <tr>\n",
       "      <th>8672</th>\n",
       "      <td>84</td>\n",
       "      <td>100</td>\n",
       "      <td>0</td>\n",
       "      <td>1491215579</td>\n",
       "    </tr>\n",
       "    <tr>\n",
       "      <th>8673</th>\n",
       "      <td>48</td>\n",
       "      <td>75</td>\n",
       "      <td>0</td>\n",
       "      <td>1491215595</td>\n",
       "    </tr>\n",
       "  </tbody>\n",
       "</table>\n",
       "<p>8674 rows × 4 columns</p>\n",
       "</div>"
      ],
      "text/plain": [
       "      user_id  item_id  like   timestamp\n",
       "0         140      342     0  1490936622\n",
       "1         378      172     1  1490936628\n",
       "2         150      182     0  1490936650\n",
       "3         455       17     0  1490936704\n",
       "4         350      409     0  1490936735\n",
       "...       ...      ...   ...         ...\n",
       "8669      161      312     0  1491215519\n",
       "8670      406      208     0  1491215543\n",
       "8671      196       43     0  1491215576\n",
       "8672       84      100     0  1491215579\n",
       "8673       48       75     0  1491215595\n",
       "\n",
       "[8674 rows x 4 columns]"
      ]
     },
     "execution_count": 6,
     "metadata": {},
     "output_type": "execute_result"
    }
   ],
   "source": [
    "train"
   ]
  },
  {
   "cell_type": "markdown",
   "metadata": {},
   "source": [
    "# препроцессинг"
   ]
  },
  {
   "cell_type": "code",
   "execution_count": 2,
   "metadata": {
    "ExecuteTime": {
     "end_time": "2020-08-13T18:07:40.795631Z",
     "start_time": "2020-08-13T18:07:40.787647Z"
    }
   },
   "outputs": [],
   "source": [
    "user_features.set_index('user_id', inplace=True)\n",
    "item_features.set_index('item_id', inplace=True)"
   ]
  },
  {
   "cell_type": "code",
   "execution_count": 3,
   "metadata": {
    "ExecuteTime": {
     "end_time": "2020-08-13T18:07:45.848411Z",
     "start_time": "2020-08-13T18:07:45.563595Z"
    }
   },
   "outputs": [
    {
     "data": {
      "text/plain": [
       "<matplotlib.axes._subplots.AxesSubplot at 0xe644250>"
      ]
     },
     "execution_count": 3,
     "metadata": {},
     "output_type": "execute_result"
    },
    {
     "data": {
      "image/png": "[encoded data removed]",
      "text/plain": [
       "<Figure size 432x288 with 2 Axes>"
      ]
     },
     "metadata": {
      "needs_background": "light"
     },
     "output_type": "display_data"
    }
   ],
   "source": [
    "import seaborn as sns\n",
    "\n",
    "sns.heatmap(user_features.corr())"
   ]
  },
  {
   "cell_type": "code",
   "execution_count": 4,
   "metadata": {
    "ExecuteTime": {
     "end_time": "2020-08-13T18:09:30.113649Z",
     "start_time": "2020-08-13T18:09:30.110079Z"
    }
   },
   "outputs": [],
   "source": [
    "user_features = user_features['0']"
   ]
  },
  {
   "cell_type": "code",
   "execution_count": 5,
   "metadata": {
    "ExecuteTime": {
     "end_time": "2020-08-13T18:09:51.398368Z",
     "start_time": "2020-08-13T18:09:51.108854Z"
    }
   },
   "outputs": [
    {
     "data": {
      "text/plain": [
       "<matplotlib.axes._subplots.AxesSubplot at 0xf7426d0>"
      ]
     },
     "execution_count": 5,
     "metadata": {},
     "output_type": "execute_result"
    },
    {
     "data": {
      "image/png": "[encoded data removed]",
      "text/plain": [
       "<Figure size 432x288 with 2 Axes>"
      ]
     },
     "metadata": {
      "needs_background": "light"
     },
     "output_type": "display_data"
    }
   ],
   "source": [
    "sns.heatmap(item_features.corr())"
   ]
  },
  {
   "cell_type": "code",
   "execution_count": 6,
   "metadata": {
    "ExecuteTime": {
     "end_time": "2020-08-13T18:12:53.159463Z",
     "start_time": "2020-08-13T18:12:53.153761Z"
    }
   },
   "outputs": [],
   "source": [
    "from sklearn.decomposition import PCA\n",
    "\n",
    "pca = PCA(32)"
   ]
  },
  {
   "cell_type": "code",
   "execution_count": 7,
   "metadata": {
    "ExecuteTime": {
     "end_time": "2020-08-13T18:13:06.221687Z",
     "start_time": "2020-08-13T18:13:06.209660Z"
    }
   },
   "outputs": [
    {
     "data": {
      "text/plain": [
       "PCA(n_components=32)"
      ]
     },
     "execution_count": 7,
     "metadata": {},
     "output_type": "execute_result"
    }
   ],
   "source": [
    "pca.fit(item_features.values)"
   ]
  },
  {
   "cell_type": "code",
   "execution_count": 8,
   "metadata": {
    "ExecuteTime": {
     "end_time": "2020-08-13T18:15:21.530737Z",
     "start_time": "2020-08-13T18:15:21.524768Z"
    }
   },
   "outputs": [
    {
     "data": {
      "text/plain": [
       "array([0.38584675, 0.60198545, 0.73288149, 0.80900286, 0.87650087,\n",
       "       0.92317195, 0.95056808, 0.97193468, 0.98592696, 0.99606962,\n",
       "       0.99977595, 0.99994347, 1.        , 1.        , 1.        ,\n",
       "       1.        , 1.        , 1.        , 1.        , 1.        ,\n",
       "       1.        , 1.        , 1.        , 1.        , 1.        ,\n",
       "       1.        , 1.        , 1.        , 1.        , 1.        ,\n",
       "       1.        , 1.        ])"
      ]
     },
     "execution_count": 8,
     "metadata": {},
     "output_type": "execute_result"
    }
   ],
   "source": [
    "pca.explained_variance_ratio_.cumsum() # cumsum r каждому числу прибавляет все предедущие "
   ]
  },
  {
   "cell_type": "code",
   "execution_count": 9,
   "metadata": {
    "ExecuteTime": {
     "end_time": "2020-08-13T18:16:54.001362Z",
     "start_time": "2020-08-13T18:16:53.993445Z"
    }
   },
   "outputs": [],
   "source": [
    "item_features = item_features.loc[:, item_features.columns[:12]]"
   ]
  },
  {
   "cell_type": "code",
   "execution_count": 25,
   "metadata": {
    "ExecuteTime": {
     "end_time": "2020-08-13T18:17:47.234644Z",
     "start_time": "2020-08-13T18:17:47.232057Z"
    }
   },
   "outputs": [],
   "source": []
  },
  {
   "cell_type": "markdown",
   "metadata": {},
   "source": [
    "# baseline"
   ]
  },
  {
   "cell_type": "code",
   "execution_count": 10,
   "metadata": {
    "ExecuteTime": {
     "end_time": "2020-08-13T18:28:44.671719Z",
     "start_time": "2020-08-13T18:28:44.660394Z"
    }
   },
   "outputs": [],
   "source": [
    "item_to_count = dict()\n",
    "for item in train[train.like == 1]['item_id'].values:\n",
    "    try:\n",
    "        item_to_count[item] += 1\n",
    "    except:\n",
    "        item_to_count[item] = 1"
   ]
  },
  {
   "cell_type": "code",
   "execution_count": 11,
   "metadata": {
    "ExecuteTime": {
     "end_time": "2020-08-13T18:43:22.533076Z",
     "start_time": "2020-08-13T18:43:22.519021Z"
    }
   },
   "outputs": [
    {
     "data": {
      "text/plain": [
       "{172: 15,\n",
       " 196: 4,\n",
       " 123: 4,\n",
       " 66: 32,\n",
       " 60: 24,\n",
       " 94: 5,\n",
       " 146: 22,\n",
       " 15: 3,\n",
       " 40: 48,\n",
       " 62: 8,\n",
       " 7: 22,\n",
       " 87: 21,\n",
       " 76: 97,\n",
       " 105: 5,\n",
       " 28: 2,\n",
       " 18: 11,\n",
       " 21: 23,\n",
       " 77: 8,\n",
       " 37: 44,\n",
       " 32: 23,\n",
       " 129: 7,\n",
       " 6: 5,\n",
       " 35: 76,\n",
       " 11: 25,\n",
       " 181: 5,\n",
       " 110: 4,\n",
       " 1: 6,\n",
       " 184: 5,\n",
       " 67: 23,\n",
       " 65: 38,\n",
       " 30: 13,\n",
       " 155: 14,\n",
       " 159: 6,\n",
       " 75: 7,\n",
       " 58: 41,\n",
       " 198: 3,\n",
       " 72: 55,\n",
       " 119: 19,\n",
       " 22: 77,\n",
       " 98: 5,\n",
       " 63: 11,\n",
       " 113: 6,\n",
       " 122: 5,\n",
       " 141: 6,\n",
       " 148: 2,\n",
       " 78: 19,\n",
       " 3: 3,\n",
       " 31: 3,\n",
       " 178: 1,\n",
       " 5: 21,\n",
       " 180: 6,\n",
       " 33: 19,\n",
       " 53: 4,\n",
       " 81: 3,\n",
       " 44: 20,\n",
       " 101: 9,\n",
       " 90: 10,\n",
       " 143: 2,\n",
       " 142: 9,\n",
       " 109: 1,\n",
       " 137: 7,\n",
       " 80: 42,\n",
       " 136: 10,\n",
       " 100: 3,\n",
       " 9: 7,\n",
       " 20: 5,\n",
       " 89: 5,\n",
       " 36: 14,\n",
       " 83: 5,\n",
       " 34: 6,\n",
       " 171: 1,\n",
       " 39: 15,\n",
       " 45: 6,\n",
       " 103: 3,\n",
       " 70: 13,\n",
       " 84: 7,\n",
       " 49: 11,\n",
       " 17: 14,\n",
       " 191: 1,\n",
       " 13: 2,\n",
       " 59: 12,\n",
       " 73: 6,\n",
       " 2: 9,\n",
       " 112: 3,\n",
       " 204: 1,\n",
       " 147: 15,\n",
       " 41: 9,\n",
       " 0: 2,\n",
       " 38: 4,\n",
       " 139: 2,\n",
       " 164: 2,\n",
       " 150: 4,\n",
       " 125: 4,\n",
       " 138: 5,\n",
       " 194: 1,\n",
       " 157: 1,\n",
       " 195: 2,\n",
       " 14: 4,\n",
       " 71: 11,\n",
       " 111: 3,\n",
       " 166: 2,\n",
       " 27: 4,\n",
       " 19: 13,\n",
       " 54: 2,\n",
       " 51: 1,\n",
       " 96: 3,\n",
       " 43: 7,\n",
       " 16: 2,\n",
       " 162: 1,\n",
       " 197: 1,\n",
       " 203: 1,\n",
       " 118: 7,\n",
       " 126: 1,\n",
       " 121: 1,\n",
       " 8: 3,\n",
       " 24: 3,\n",
       " 152: 1,\n",
       " 192: 2,\n",
       " 104: 7,\n",
       " 128: 4,\n",
       " 50: 4,\n",
       " 25: 2,\n",
       " 26: 7,\n",
       " 115: 3,\n",
       " 202: 1,\n",
       " 23: 3,\n",
       " 186: 3,\n",
       " 187: 1,\n",
       " 88: 11,\n",
       " 114: 5,\n",
       " 163: 2,\n",
       " 185: 1,\n",
       " 102: 2,\n",
       " 206: 2,\n",
       " 97: 2,\n",
       " 174: 1,\n",
       " 168: 3,\n",
       " 10: 3,\n",
       " 12: 1,\n",
       " 175: 1,\n",
       " 151: 2,\n",
       " 161: 1,\n",
       " 79: 4,\n",
       " 145: 4,\n",
       " 131: 3,\n",
       " 61: 1,\n",
       " 183: 1,\n",
       " 140: 2,\n",
       " 199: 1,\n",
       " 29: 1,\n",
       " 95: 6,\n",
       " 92: 1,\n",
       " 52: 2,\n",
       " 108: 3,\n",
       " 207: 1,\n",
       " 120: 2,\n",
       " 193: 2,\n",
       " 107: 4,\n",
       " 86: 3,\n",
       " 158: 2,\n",
       " 91: 1,\n",
       " 4: 7,\n",
       " 190: 1,\n",
       " 99: 6,\n",
       " 200: 1,\n",
       " 165: 1,\n",
       " 160: 3,\n",
       " 177: 1,\n",
       " 189: 1,\n",
       " 149: 2,\n",
       " 169: 1,\n",
       " 57: 2,\n",
       " 134: 1,\n",
       " 46: 1,\n",
       " 116: 1,\n",
       " 201: 1,\n",
       " 188: 2,\n",
       " 124: 2,\n",
       " 144: 1,\n",
       " 64: 1,\n",
       " 173: 1,\n",
       " 156: 2,\n",
       " 170: 1,\n",
       " 47: 1,\n",
       " 167: 1,\n",
       " 117: 2,\n",
       " 127: 1,\n",
       " 130: 1,\n",
       " 48: 1,\n",
       " 135: 2,\n",
       " 133: 1,\n",
       " 176: 1,\n",
       " 93: 1,\n",
       " 56: 1,\n",
       " 132: 1,\n",
       " 205: 1,\n",
       " 106: 1,\n",
       " 85: 1,\n",
       " 208: 1,\n",
       " 55: 2,\n",
       " 68: 1,\n",
       " 69: 1,\n",
       " 182: 1}"
      ]
     },
     "execution_count": 11,
     "metadata": {},
     "output_type": "execute_result"
    }
   ],
   "source": [
    "item_to_count"
   ]
  },
  {
   "cell_type": "code",
   "execution_count": 37,
   "metadata": {
    "ExecuteTime": {
     "end_time": "2020-08-13T18:30:32.256291Z",
     "start_time": "2020-08-13T18:30:32.242722Z"
    }
   },
   "outputs": [],
   "source": [
    "item_id_likes = train.groupby('item_id').sum().reset_index()[['item_id', 'like']]"
   ]
  },
  {
   "cell_type": "code",
   "execution_count": null,
   "metadata": {},
   "outputs": [],
   "source": []
  },
  {
   "cell_type": "code",
   "execution_count": null,
   "metadata": {},
   "outputs": [],
   "source": []
  },
  {
   "cell_type": "code",
   "execution_count": 38,
   "metadata": {
    "ExecuteTime": {
     "end_time": "2020-08-13T18:30:59.980595Z",
     "start_time": "2020-08-13T18:30:59.972299Z"
    }
   },
   "outputs": [],
   "source": [
    "item_id_likes['like'] *= -1\n",
    "item_id_likes.sort_values(by=['like'], inplace=True)"
   ]
  },
  {
   "cell_type": "code",
   "execution_count": 39,
   "metadata": {
    "ExecuteTime": {
     "end_time": "2020-08-13T18:32:13.969446Z",
     "start_time": "2020-08-13T18:32:13.964354Z"
    }
   },
   "outputs": [],
   "source": [
    "baseline_1 = item_id_likes.item_id.values[:20]"
   ]
  },
  {
   "cell_type": "code",
   "execution_count": 68,
   "metadata": {
    "ExecuteTime": {
     "end_time": "2020-08-13T18:41:46.628094Z",
     "start_time": "2020-08-13T18:41:45.924349Z"
    }
   },
   "outputs": [],
   "source": [
    "baseline_2 = []\n",
    "for i in range(497):\n",
    "    df = train[train.user_id == i]\n",
    "    items = df[df.like == 1].item_id.values\n",
    "    if len(items) == 0:\n",
    "        items = item_id_likes.item_id.values[:20]\n",
    "    else:\n",
    "        items = np.concatenate((items, item_id_likes.item_id[:20-len(items)].values))\n",
    "    baseline_2.append(items)"
   ]
  },
  {
   "cell_type": "code",
   "execution_count": 47,
   "metadata": {
    "ExecuteTime": {
     "end_time": "2020-08-13T18:49:35.966413Z",
     "start_time": "2020-08-13T18:49:35.959101Z"
    }
   },
   "outputs": [],
   "source": [
    "baseline_1_df = pd.DataFrame({'user_id': range(497)})"
   ]
  },
  {
   "cell_type": "code",
   "execution_count": 48,
   "metadata": {
    "ExecuteTime": {
     "end_time": "2020-08-13T18:49:37.277907Z",
     "start_time": "2020-08-13T18:49:37.258228Z"
    }
   },
   "outputs": [],
   "source": [
    "for i in range(20):\n",
    "    baseline_1_df[str(i)] = baseline_1[i]"
   ]
  },
  {
   "cell_type": "code",
   "execution_count": 95,
   "metadata": {
    "ExecuteTime": {
     "end_time": "2020-08-13T18:49:39.381407Z",
     "start_time": "2020-08-13T18:49:39.374928Z"
    }
   },
   "outputs": [],
   "source": [
    "baseline_2_df = pd.DataFrame({'user_id': range(497)})"
   ]
  },
  {
   "cell_type": "code",
   "execution_count": 96,
   "metadata": {
    "ExecuteTime": {
     "end_time": "2020-08-13T18:49:39.785347Z",
     "start_time": "2020-08-13T18:49:39.759560Z"
    }
   },
   "outputs": [],
   "source": [
    "for i in range(20):\n",
    "    val = []\n",
    "    for row in baseline_2:\n",
    "        val.append(row[i])\n",
    "    baseline_2_df[str(i)] = val"
   ]
  },
  {
   "cell_type": "code",
   "execution_count": 98,
   "metadata": {
    "ExecuteTime": {
     "end_time": "2020-08-13T18:50:30.756357Z",
     "start_time": "2020-08-13T18:50:30.731291Z"
    }
   },
   "outputs": [],
   "source": [
    "baseline_1_df.to_csv('baseline_1.csv')"
   ]
  },
  {
   "cell_type": "code",
   "execution_count": 99,
   "metadata": {
    "ExecuteTime": {
     "end_time": "2020-08-13T18:50:31.456799Z",
     "start_time": "2020-08-13T18:50:31.435008Z"
    }
   },
   "outputs": [],
   "source": [
    "baseline_2_df.to_csv('baseline_2.csv')"
   ]
  },
  {
   "cell_type": "markdown",
   "metadata": {},
   "source": [
    "# С дизами"
   ]
  },
  {
   "cell_type": "code",
   "execution_count": 147,
   "metadata": {},
   "outputs": [
    {
     "name": "stderr",
     "output_type": "stream",
     "text": [
      "c:\\users\\korowood\\appdata\\local\\programs\\python\\python37-32\\lib\\site-packages\\ipykernel_launcher.py:3: UserWarning: Boolean Series key will be reindexed to match DataFrame index.\n",
      "  This is separate from the ipykernel package so we can avoid doing imports until\n",
      "c:\\users\\korowood\\appdata\\local\\programs\\python\\python37-32\\lib\\site-packages\\ipykernel_launcher.py:4: UserWarning: Boolean Series key will be reindexed to match DataFrame index.\n",
      "  after removing the cwd from sys.path.\n"
     ]
    }
   ],
   "source": [
    "item_no_like = dict()\n",
    "for item in train['item_id'].values:\n",
    "    a = train[train.like == 1][train.item_id == item]\n",
    "    b = train[train.like == 0][train.item_id == item]\n",
    "    c = train[train.item_id == item]\n",
    "    if len(a) > len(b):\n",
    "        item_no_like[item] = len(a) - len(b)\n",
    "\n",
    "    \n"
   ]
  },
  {
   "cell_type": "code",
   "execution_count": null,
   "metadata": {},
   "outputs": [],
   "source": []
  },
  {
   "cell_type": "code",
   "execution_count": 103,
   "metadata": {},
   "outputs": [
    {
     "data": {
      "text/plain": [
       "{66: 32,\n",
       " 39: 15,\n",
       " 60: 24,\n",
       " 26: 7,\n",
       " 146: 22,\n",
       " 15: 3,\n",
       " 40: 48,\n",
       " 119: 19,\n",
       " 7: 22,\n",
       " 87: 21,\n",
       " 76: 97,\n",
       " 105: 5,\n",
       " 28: 2,\n",
       " 18: 11,\n",
       " 21: 23,\n",
       " 77: 8,\n",
       " 37: 44,\n",
       " 32: 23,\n",
       " 155: 14,\n",
       " 6: 5,\n",
       " 35: 76,\n",
       " 67: 23,\n",
       " 11: 25,\n",
       " 122: 5,\n",
       " 110: 4,\n",
       " 1: 6,\n",
       " 65: 38,\n",
       " 2: 9,\n",
       " 75: 7,\n",
       " 58: 41,\n",
       " 72: 55,\n",
       " 22: 77,\n",
       " 98: 5,\n",
       " 113: 6,\n",
       " 141: 6,\n",
       " 148: 2,\n",
       " 78: 19,\n",
       " 3: 3,\n",
       " 31: 3,\n",
       " 5: 21,\n",
       " 33: 19,\n",
       " 8: 3,\n",
       " 81: 3,\n",
       " 95: 6,\n",
       " 142: 9,\n",
       " 114: 5,\n",
       " 80: 42,\n",
       " 163: 2,\n",
       " 136: 10,\n",
       " 130: 1,\n",
       " 131: 3,\n",
       " 160: 3,\n",
       " 36: 14,\n",
       " 83: 5,\n",
       " 34: 6,\n",
       " 147: 15,\n",
       " 104: 7,\n",
       " 49: 11,\n",
       " 191: 1,\n",
       " 59: 12,\n",
       " 73: 6,\n",
       " 88: 11,\n",
       " 164: 2,\n",
       " 150: 4,\n",
       " 111: 3,\n",
       " 19: 13,\n",
       " 51: 1,\n",
       " 99: 6,\n",
       " 126: 1,\n",
       " 192: 2,\n",
       " 144: 1,\n",
       " 186: 3,\n",
       " 145: 4,\n",
       " 102: 2,\n",
       " 161: 1,\n",
       " 61: 1,\n",
       " 193: 2,\n",
       " 91: 1,\n",
       " 200: 1,\n",
       " 201: 1,\n",
       " 85: 1,\n",
       " 56: 1,\n",
       " 68: 1}"
      ]
     },
     "execution_count": 103,
     "metadata": {},
     "output_type": "execute_result"
    }
   ],
   "source": [
    "item_no_like"
   ]
  },
  {
   "cell_type": "code",
   "execution_count": 155,
   "metadata": {},
   "outputs": [
    {
     "name": "stderr",
     "output_type": "stream",
     "text": [
      "c:\\users\\korowood\\appdata\\local\\programs\\python\\python37-32\\lib\\site-packages\\ipykernel_launcher.py:1: UserWarning: Boolean Series key will be reindexed to match DataFrame index.\n",
      "  \"\"\"Entry point for launching an IPython kernel.\n",
      "c:\\users\\korowood\\appdata\\local\\programs\\python\\python37-32\\lib\\site-packages\\ipykernel_launcher.py:2: UserWarning: Boolean Series key will be reindexed to match DataFrame index.\n",
      "  \n"
     ]
    },
    {
     "data": {
      "text/plain": [
       "(5, 10)"
      ]
     },
     "execution_count": 155,
     "metadata": {},
     "output_type": "execute_result"
    }
   ],
   "source": [
    "a = train[train['item_id'] == 136][train['like'] == 0]\n",
    "b = train[train['item_id'] == 136][train['like'] == 1]\n",
    "len(a), len(b)"
   ]
  },
  {
   "cell_type": "code",
   "execution_count": null,
   "metadata": {},
   "outputs": [],
   "source": []
  },
  {
   "cell_type": "code",
   "execution_count": 148,
   "metadata": {},
   "outputs": [],
   "source": [
    "list_d = list(item_no_like.items())\n",
    "baseline_3 = []\n",
    "list_d.sort(key=lambda i: -i[1])\n",
    "for i in list_d:\n",
    "#     print(i[0], ':', i[1])\n",
    "    baseline_3.append(i[0])"
   ]
  },
  {
   "cell_type": "code",
   "execution_count": 149,
   "metadata": {},
   "outputs": [
    {
     "data": {
      "text/plain": [
       "[76,\n",
       " 22,\n",
       " 35,\n",
       " 72,\n",
       " 37,\n",
       " 40,\n",
       " 80,\n",
       " 65,\n",
       " 58,\n",
       " 66,\n",
       " 60,\n",
       " 7,\n",
       " 21,\n",
       " 19,\n",
       " 11,\n",
       " 147,\n",
       " 49,\n",
       " 1,\n",
       " 142,\n",
       " 136]"
      ]
     },
     "execution_count": 149,
     "metadata": {},
     "output_type": "execute_result"
    }
   ],
   "source": [
    "baseline_3[:20]"
   ]
  },
  {
   "cell_type": "code",
   "execution_count": 150,
   "metadata": {},
   "outputs": [],
   "source": [
    "baseline_3 = baseline_3[:20]\n",
    "baseline_3_df = pd.DataFrame({'user_id': range(497)})\n",
    "for i in range(20):\n",
    "    baseline_3_df[str(i)] = baseline_3[i]"
   ]
  },
  {
   "cell_type": "code",
   "execution_count": 151,
   "metadata": {},
   "outputs": [
    {
     "data": {
      "text/html": [
       "<div>\n",
       "<style scoped>\n",
       "    .dataframe tbody tr th:only-of-type {\n",
       "        vertical-align: middle;\n",
       "    }\n",
       "\n",
       "    .dataframe tbody tr th {\n",
       "        vertical-align: top;\n",
       "    }\n",
       "\n",
       "    .dataframe thead th {\n",
       "        text-align: right;\n",
       "    }\n",
       "</style>\n",
       "<table border=\"1\" class=\"dataframe\">\n",
       "  <thead>\n",
       "    <tr style=\"text-align: right;\">\n",
       "      <th></th>\n",
       "      <th>user_id</th>\n",
       "      <th>0</th>\n",
       "      <th>1</th>\n",
       "      <th>2</th>\n",
       "      <th>3</th>\n",
       "      <th>4</th>\n",
       "      <th>5</th>\n",
       "      <th>6</th>\n",
       "      <th>7</th>\n",
       "      <th>8</th>\n",
       "      <th>...</th>\n",
       "      <th>10</th>\n",
       "      <th>11</th>\n",
       "      <th>12</th>\n",
       "      <th>13</th>\n",
       "      <th>14</th>\n",
       "      <th>15</th>\n",
       "      <th>16</th>\n",
       "      <th>17</th>\n",
       "      <th>18</th>\n",
       "      <th>19</th>\n",
       "    </tr>\n",
       "  </thead>\n",
       "  <tbody>\n",
       "    <tr>\n",
       "      <th>0</th>\n",
       "      <td>0</td>\n",
       "      <td>76</td>\n",
       "      <td>22</td>\n",
       "      <td>35</td>\n",
       "      <td>72</td>\n",
       "      <td>37</td>\n",
       "      <td>40</td>\n",
       "      <td>80</td>\n",
       "      <td>65</td>\n",
       "      <td>58</td>\n",
       "      <td>...</td>\n",
       "      <td>60</td>\n",
       "      <td>7</td>\n",
       "      <td>21</td>\n",
       "      <td>19</td>\n",
       "      <td>11</td>\n",
       "      <td>147</td>\n",
       "      <td>49</td>\n",
       "      <td>1</td>\n",
       "      <td>142</td>\n",
       "      <td>136</td>\n",
       "    </tr>\n",
       "    <tr>\n",
       "      <th>1</th>\n",
       "      <td>1</td>\n",
       "      <td>76</td>\n",
       "      <td>22</td>\n",
       "      <td>35</td>\n",
       "      <td>72</td>\n",
       "      <td>37</td>\n",
       "      <td>40</td>\n",
       "      <td>80</td>\n",
       "      <td>65</td>\n",
       "      <td>58</td>\n",
       "      <td>...</td>\n",
       "      <td>60</td>\n",
       "      <td>7</td>\n",
       "      <td>21</td>\n",
       "      <td>19</td>\n",
       "      <td>11</td>\n",
       "      <td>147</td>\n",
       "      <td>49</td>\n",
       "      <td>1</td>\n",
       "      <td>142</td>\n",
       "      <td>136</td>\n",
       "    </tr>\n",
       "    <tr>\n",
       "      <th>2</th>\n",
       "      <td>2</td>\n",
       "      <td>76</td>\n",
       "      <td>22</td>\n",
       "      <td>35</td>\n",
       "      <td>72</td>\n",
       "      <td>37</td>\n",
       "      <td>40</td>\n",
       "      <td>80</td>\n",
       "      <td>65</td>\n",
       "      <td>58</td>\n",
       "      <td>...</td>\n",
       "      <td>60</td>\n",
       "      <td>7</td>\n",
       "      <td>21</td>\n",
       "      <td>19</td>\n",
       "      <td>11</td>\n",
       "      <td>147</td>\n",
       "      <td>49</td>\n",
       "      <td>1</td>\n",
       "      <td>142</td>\n",
       "      <td>136</td>\n",
       "    </tr>\n",
       "    <tr>\n",
       "      <th>3</th>\n",
       "      <td>3</td>\n",
       "      <td>76</td>\n",
       "      <td>22</td>\n",
       "      <td>35</td>\n",
       "      <td>72</td>\n",
       "      <td>37</td>\n",
       "      <td>40</td>\n",
       "      <td>80</td>\n",
       "      <td>65</td>\n",
       "      <td>58</td>\n",
       "      <td>...</td>\n",
       "      <td>60</td>\n",
       "      <td>7</td>\n",
       "      <td>21</td>\n",
       "      <td>19</td>\n",
       "      <td>11</td>\n",
       "      <td>147</td>\n",
       "      <td>49</td>\n",
       "      <td>1</td>\n",
       "      <td>142</td>\n",
       "      <td>136</td>\n",
       "    </tr>\n",
       "    <tr>\n",
       "      <th>4</th>\n",
       "      <td>4</td>\n",
       "      <td>76</td>\n",
       "      <td>22</td>\n",
       "      <td>35</td>\n",
       "      <td>72</td>\n",
       "      <td>37</td>\n",
       "      <td>40</td>\n",
       "      <td>80</td>\n",
       "      <td>65</td>\n",
       "      <td>58</td>\n",
       "      <td>...</td>\n",
       "      <td>60</td>\n",
       "      <td>7</td>\n",
       "      <td>21</td>\n",
       "      <td>19</td>\n",
       "      <td>11</td>\n",
       "      <td>147</td>\n",
       "      <td>49</td>\n",
       "      <td>1</td>\n",
       "      <td>142</td>\n",
       "      <td>136</td>\n",
       "    </tr>\n",
       "    <tr>\n",
       "      <th>...</th>\n",
       "      <td>...</td>\n",
       "      <td>...</td>\n",
       "      <td>...</td>\n",
       "      <td>...</td>\n",
       "      <td>...</td>\n",
       "      <td>...</td>\n",
       "      <td>...</td>\n",
       "      <td>...</td>\n",
       "      <td>...</td>\n",
       "      <td>...</td>\n",
       "      <td>...</td>\n",
       "      <td>...</td>\n",
       "      <td>...</td>\n",
       "      <td>...</td>\n",
       "      <td>...</td>\n",
       "      <td>...</td>\n",
       "      <td>...</td>\n",
       "      <td>...</td>\n",
       "      <td>...</td>\n",
       "      <td>...</td>\n",
       "      <td>...</td>\n",
       "    </tr>\n",
       "    <tr>\n",
       "      <th>492</th>\n",
       "      <td>492</td>\n",
       "      <td>76</td>\n",
       "      <td>22</td>\n",
       "      <td>35</td>\n",
       "      <td>72</td>\n",
       "      <td>37</td>\n",
       "      <td>40</td>\n",
       "      <td>80</td>\n",
       "      <td>65</td>\n",
       "      <td>58</td>\n",
       "      <td>...</td>\n",
       "      <td>60</td>\n",
       "      <td>7</td>\n",
       "      <td>21</td>\n",
       "      <td>19</td>\n",
       "      <td>11</td>\n",
       "      <td>147</td>\n",
       "      <td>49</td>\n",
       "      <td>1</td>\n",
       "      <td>142</td>\n",
       "      <td>136</td>\n",
       "    </tr>\n",
       "    <tr>\n",
       "      <th>493</th>\n",
       "      <td>493</td>\n",
       "      <td>76</td>\n",
       "      <td>22</td>\n",
       "      <td>35</td>\n",
       "      <td>72</td>\n",
       "      <td>37</td>\n",
       "      <td>40</td>\n",
       "      <td>80</td>\n",
       "      <td>65</td>\n",
       "      <td>58</td>\n",
       "      <td>...</td>\n",
       "      <td>60</td>\n",
       "      <td>7</td>\n",
       "      <td>21</td>\n",
       "      <td>19</td>\n",
       "      <td>11</td>\n",
       "      <td>147</td>\n",
       "      <td>49</td>\n",
       "      <td>1</td>\n",
       "      <td>142</td>\n",
       "      <td>136</td>\n",
       "    </tr>\n",
       "    <tr>\n",
       "      <th>494</th>\n",
       "      <td>494</td>\n",
       "      <td>76</td>\n",
       "      <td>22</td>\n",
       "      <td>35</td>\n",
       "      <td>72</td>\n",
       "      <td>37</td>\n",
       "      <td>40</td>\n",
       "      <td>80</td>\n",
       "      <td>65</td>\n",
       "      <td>58</td>\n",
       "      <td>...</td>\n",
       "      <td>60</td>\n",
       "      <td>7</td>\n",
       "      <td>21</td>\n",
       "      <td>19</td>\n",
       "      <td>11</td>\n",
       "      <td>147</td>\n",
       "      <td>49</td>\n",
       "      <td>1</td>\n",
       "      <td>142</td>\n",
       "      <td>136</td>\n",
       "    </tr>\n",
       "    <tr>\n",
       "      <th>495</th>\n",
       "      <td>495</td>\n",
       "      <td>76</td>\n",
       "      <td>22</td>\n",
       "      <td>35</td>\n",
       "      <td>72</td>\n",
       "      <td>37</td>\n",
       "      <td>40</td>\n",
       "      <td>80</td>\n",
       "      <td>65</td>\n",
       "      <td>58</td>\n",
       "      <td>...</td>\n",
       "      <td>60</td>\n",
       "      <td>7</td>\n",
       "      <td>21</td>\n",
       "      <td>19</td>\n",
       "      <td>11</td>\n",
       "      <td>147</td>\n",
       "      <td>49</td>\n",
       "      <td>1</td>\n",
       "      <td>142</td>\n",
       "      <td>136</td>\n",
       "    </tr>\n",
       "    <tr>\n",
       "      <th>496</th>\n",
       "      <td>496</td>\n",
       "      <td>76</td>\n",
       "      <td>22</td>\n",
       "      <td>35</td>\n",
       "      <td>72</td>\n",
       "      <td>37</td>\n",
       "      <td>40</td>\n",
       "      <td>80</td>\n",
       "      <td>65</td>\n",
       "      <td>58</td>\n",
       "      <td>...</td>\n",
       "      <td>60</td>\n",
       "      <td>7</td>\n",
       "      <td>21</td>\n",
       "      <td>19</td>\n",
       "      <td>11</td>\n",
       "      <td>147</td>\n",
       "      <td>49</td>\n",
       "      <td>1</td>\n",
       "      <td>142</td>\n",
       "      <td>136</td>\n",
       "    </tr>\n",
       "  </tbody>\n",
       "</table>\n",
       "<p>497 rows × 21 columns</p>\n",
       "</div>"
      ],
      "text/plain": [
       "     user_id   0   1   2   3   4   5   6   7   8  ...  10  11  12  13  14  \\\n",
       "0          0  76  22  35  72  37  40  80  65  58  ...  60   7  21  19  11   \n",
       "1          1  76  22  35  72  37  40  80  65  58  ...  60   7  21  19  11   \n",
       "2          2  76  22  35  72  37  40  80  65  58  ...  60   7  21  19  11   \n",
       "3          3  76  22  35  72  37  40  80  65  58  ...  60   7  21  19  11   \n",
       "4          4  76  22  35  72  37  40  80  65  58  ...  60   7  21  19  11   \n",
       "..       ...  ..  ..  ..  ..  ..  ..  ..  ..  ..  ...  ..  ..  ..  ..  ..   \n",
       "492      492  76  22  35  72  37  40  80  65  58  ...  60   7  21  19  11   \n",
       "493      493  76  22  35  72  37  40  80  65  58  ...  60   7  21  19  11   \n",
       "494      494  76  22  35  72  37  40  80  65  58  ...  60   7  21  19  11   \n",
       "495      495  76  22  35  72  37  40  80  65  58  ...  60   7  21  19  11   \n",
       "496      496  76  22  35  72  37  40  80  65  58  ...  60   7  21  19  11   \n",
       "\n",
       "      15  16  17   18   19  \n",
       "0    147  49   1  142  136  \n",
       "1    147  49   1  142  136  \n",
       "2    147  49   1  142  136  \n",
       "3    147  49   1  142  136  \n",
       "4    147  49   1  142  136  \n",
       "..   ...  ..  ..  ...  ...  \n",
       "492  147  49   1  142  136  \n",
       "493  147  49   1  142  136  \n",
       "494  147  49   1  142  136  \n",
       "495  147  49   1  142  136  \n",
       "496  147  49   1  142  136  \n",
       "\n",
       "[497 rows x 21 columns]"
      ]
     },
     "execution_count": 151,
     "metadata": {},
     "output_type": "execute_result"
    }
   ],
   "source": [
    "baseline_3_df"
   ]
  },
  {
   "cell_type": "code",
   "execution_count": 156,
   "metadata": {},
   "outputs": [],
   "source": [
    "baseline_3_df.to_csv('baseline_3.csv')"
   ]
  },
  {
   "cell_type": "code",
   "execution_count": 70,
   "metadata": {},
   "outputs": [
    {
     "name": "stderr",
     "output_type": "stream",
     "text": [
      "c:\\users\\korowood\\appdata\\local\\programs\\python\\python37-32\\lib\\site-packages\\ipykernel_launcher.py:1: UserWarning: Boolean Series key will be reindexed to match DataFrame index.\n",
      "  \"\"\"Entry point for launching an IPython kernel.\n",
      "c:\\users\\korowood\\appdata\\local\\programs\\python\\python37-32\\lib\\site-packages\\ipykernel_launcher.py:2: UserWarning: Boolean Series key will be reindexed to match DataFrame index.\n",
      "  \n",
      "c:\\users\\korowood\\appdata\\local\\programs\\python\\python37-32\\lib\\site-packages\\ipykernel_launcher.py:3: UserWarning: Boolean Series key will be reindexed to match DataFrame index.\n",
      "  This is separate from the ipykernel package so we can avoid doing imports until\n"
     ]
    },
    {
     "data": {
      "text/html": [
       "<div>\n",
       "<style scoped>\n",
       "    .dataframe tbody tr th:only-of-type {\n",
       "        vertical-align: middle;\n",
       "    }\n",
       "\n",
       "    .dataframe tbody tr th {\n",
       "        vertical-align: top;\n",
       "    }\n",
       "\n",
       "    .dataframe thead th {\n",
       "        text-align: right;\n",
       "    }\n",
       "</style>\n",
       "<table border=\"1\" class=\"dataframe\">\n",
       "  <thead>\n",
       "    <tr style=\"text-align: right;\">\n",
       "      <th></th>\n",
       "      <th>user_id</th>\n",
       "      <th>item_id</th>\n",
       "      <th>like</th>\n",
       "      <th>timestamp</th>\n",
       "    </tr>\n",
       "  </thead>\n",
       "  <tbody>\n",
       "    <tr>\n",
       "      <th>343</th>\n",
       "      <td>5</td>\n",
       "      <td>0</td>\n",
       "      <td>0</td>\n",
       "      <td>1490946983</td>\n",
       "    </tr>\n",
       "    <tr>\n",
       "      <th>1432</th>\n",
       "      <td>16</td>\n",
       "      <td>0</td>\n",
       "      <td>0</td>\n",
       "      <td>1490980845</td>\n",
       "    </tr>\n",
       "    <tr>\n",
       "      <th>1675</th>\n",
       "      <td>1</td>\n",
       "      <td>0</td>\n",
       "      <td>0</td>\n",
       "      <td>1490988759</td>\n",
       "    </tr>\n",
       "    <tr>\n",
       "      <th>1919</th>\n",
       "      <td>153</td>\n",
       "      <td>0</td>\n",
       "      <td>0</td>\n",
       "      <td>1490996337</td>\n",
       "    </tr>\n",
       "    <tr>\n",
       "      <th>2622</th>\n",
       "      <td>450</td>\n",
       "      <td>0</td>\n",
       "      <td>0</td>\n",
       "      <td>1491018116</td>\n",
       "    </tr>\n",
       "    <tr>\n",
       "      <th>3306</th>\n",
       "      <td>453</td>\n",
       "      <td>0</td>\n",
       "      <td>0</td>\n",
       "      <td>1491038711</td>\n",
       "    </tr>\n",
       "    <tr>\n",
       "      <th>4356</th>\n",
       "      <td>276</td>\n",
       "      <td>0</td>\n",
       "      <td>0</td>\n",
       "      <td>1491071198</td>\n",
       "    </tr>\n",
       "    <tr>\n",
       "      <th>5862</th>\n",
       "      <td>75</td>\n",
       "      <td>0</td>\n",
       "      <td>0</td>\n",
       "      <td>1491120869</td>\n",
       "    </tr>\n",
       "    <tr>\n",
       "      <th>5966</th>\n",
       "      <td>206</td>\n",
       "      <td>0</td>\n",
       "      <td>0</td>\n",
       "      <td>1491124330</td>\n",
       "    </tr>\n",
       "    <tr>\n",
       "      <th>6213</th>\n",
       "      <td>15</td>\n",
       "      <td>0</td>\n",
       "      <td>0</td>\n",
       "      <td>1491131677</td>\n",
       "    </tr>\n",
       "    <tr>\n",
       "      <th>7991</th>\n",
       "      <td>77</td>\n",
       "      <td>0</td>\n",
       "      <td>0</td>\n",
       "      <td>1491190198</td>\n",
       "    </tr>\n",
       "    <tr>\n",
       "      <th>8619</th>\n",
       "      <td>63</td>\n",
       "      <td>0</td>\n",
       "      <td>0</td>\n",
       "      <td>1491213695</td>\n",
       "    </tr>\n",
       "  </tbody>\n",
       "</table>\n",
       "</div>"
      ],
      "text/plain": [
       "      user_id  item_id  like   timestamp\n",
       "343         5        0     0  1490946983\n",
       "1432       16        0     0  1490980845\n",
       "1675        1        0     0  1490988759\n",
       "1919      153        0     0  1490996337\n",
       "2622      450        0     0  1491018116\n",
       "3306      453        0     0  1491038711\n",
       "4356      276        0     0  1491071198\n",
       "5862       75        0     0  1491120869\n",
       "5966      206        0     0  1491124330\n",
       "6213       15        0     0  1491131677\n",
       "7991       77        0     0  1491190198\n",
       "8619       63        0     0  1491213695"
      ]
     },
     "execution_count": 70,
     "metadata": {},
     "output_type": "execute_result"
    }
   ],
   "source": [
    "a = train[train['item_id'] == 0][train['like'] == 0]\n",
    "b = train[train['item_id'] == 0][train['like'] == 1]\n",
    "c = train[train.like == 0][train.item_id == 0]\n",
    "c"
   ]
  },
  {
   "cell_type": "code",
   "execution_count": 97,
   "metadata": {},
   "outputs": [
    {
     "data": {
      "text/html": [
       "<div>\n",
       "<style scoped>\n",
       "    .dataframe tbody tr th:only-of-type {\n",
       "        vertical-align: middle;\n",
       "    }\n",
       "\n",
       "    .dataframe tbody tr th {\n",
       "        vertical-align: top;\n",
       "    }\n",
       "\n",
       "    .dataframe thead th {\n",
       "        text-align: right;\n",
       "    }\n",
       "</style>\n",
       "<table border=\"1\" class=\"dataframe\">\n",
       "  <thead>\n",
       "    <tr style=\"text-align: right;\">\n",
       "      <th></th>\n",
       "      <th>user_id</th>\n",
       "      <th>0</th>\n",
       "      <th>1</th>\n",
       "      <th>2</th>\n",
       "      <th>3</th>\n",
       "      <th>4</th>\n",
       "      <th>5</th>\n",
       "      <th>6</th>\n",
       "      <th>7</th>\n",
       "      <th>8</th>\n",
       "      <th>...</th>\n",
       "      <th>10</th>\n",
       "      <th>11</th>\n",
       "      <th>12</th>\n",
       "      <th>13</th>\n",
       "      <th>14</th>\n",
       "      <th>15</th>\n",
       "      <th>16</th>\n",
       "      <th>17</th>\n",
       "      <th>18</th>\n",
       "      <th>19</th>\n",
       "    </tr>\n",
       "  </thead>\n",
       "  <tbody>\n",
       "    <tr>\n",
       "      <th>0</th>\n",
       "      <td>0</td>\n",
       "      <td>76</td>\n",
       "      <td>22</td>\n",
       "      <td>35</td>\n",
       "      <td>72</td>\n",
       "      <td>40</td>\n",
       "      <td>37</td>\n",
       "      <td>80</td>\n",
       "      <td>58</td>\n",
       "      <td>65</td>\n",
       "      <td>...</td>\n",
       "      <td>11</td>\n",
       "      <td>60</td>\n",
       "      <td>32</td>\n",
       "      <td>67</td>\n",
       "      <td>21</td>\n",
       "      <td>7</td>\n",
       "      <td>146</td>\n",
       "      <td>5</td>\n",
       "      <td>87</td>\n",
       "      <td>44</td>\n",
       "    </tr>\n",
       "    <tr>\n",
       "      <th>1</th>\n",
       "      <td>1</td>\n",
       "      <td>76</td>\n",
       "      <td>22</td>\n",
       "      <td>35</td>\n",
       "      <td>72</td>\n",
       "      <td>40</td>\n",
       "      <td>37</td>\n",
       "      <td>80</td>\n",
       "      <td>58</td>\n",
       "      <td>65</td>\n",
       "      <td>...</td>\n",
       "      <td>11</td>\n",
       "      <td>60</td>\n",
       "      <td>32</td>\n",
       "      <td>67</td>\n",
       "      <td>21</td>\n",
       "      <td>7</td>\n",
       "      <td>146</td>\n",
       "      <td>5</td>\n",
       "      <td>87</td>\n",
       "      <td>44</td>\n",
       "    </tr>\n",
       "    <tr>\n",
       "      <th>2</th>\n",
       "      <td>2</td>\n",
       "      <td>76</td>\n",
       "      <td>22</td>\n",
       "      <td>35</td>\n",
       "      <td>72</td>\n",
       "      <td>40</td>\n",
       "      <td>37</td>\n",
       "      <td>80</td>\n",
       "      <td>58</td>\n",
       "      <td>65</td>\n",
       "      <td>...</td>\n",
       "      <td>11</td>\n",
       "      <td>60</td>\n",
       "      <td>32</td>\n",
       "      <td>67</td>\n",
       "      <td>21</td>\n",
       "      <td>7</td>\n",
       "      <td>146</td>\n",
       "      <td>5</td>\n",
       "      <td>87</td>\n",
       "      <td>44</td>\n",
       "    </tr>\n",
       "    <tr>\n",
       "      <th>3</th>\n",
       "      <td>3</td>\n",
       "      <td>76</td>\n",
       "      <td>22</td>\n",
       "      <td>35</td>\n",
       "      <td>72</td>\n",
       "      <td>40</td>\n",
       "      <td>37</td>\n",
       "      <td>80</td>\n",
       "      <td>58</td>\n",
       "      <td>65</td>\n",
       "      <td>...</td>\n",
       "      <td>11</td>\n",
       "      <td>60</td>\n",
       "      <td>32</td>\n",
       "      <td>67</td>\n",
       "      <td>21</td>\n",
       "      <td>7</td>\n",
       "      <td>146</td>\n",
       "      <td>5</td>\n",
       "      <td>87</td>\n",
       "      <td>44</td>\n",
       "    </tr>\n",
       "    <tr>\n",
       "      <th>4</th>\n",
       "      <td>4</td>\n",
       "      <td>76</td>\n",
       "      <td>22</td>\n",
       "      <td>35</td>\n",
       "      <td>72</td>\n",
       "      <td>40</td>\n",
       "      <td>37</td>\n",
       "      <td>80</td>\n",
       "      <td>58</td>\n",
       "      <td>65</td>\n",
       "      <td>...</td>\n",
       "      <td>11</td>\n",
       "      <td>60</td>\n",
       "      <td>32</td>\n",
       "      <td>67</td>\n",
       "      <td>21</td>\n",
       "      <td>7</td>\n",
       "      <td>146</td>\n",
       "      <td>5</td>\n",
       "      <td>87</td>\n",
       "      <td>44</td>\n",
       "    </tr>\n",
       "    <tr>\n",
       "      <th>...</th>\n",
       "      <td>...</td>\n",
       "      <td>...</td>\n",
       "      <td>...</td>\n",
       "      <td>...</td>\n",
       "      <td>...</td>\n",
       "      <td>...</td>\n",
       "      <td>...</td>\n",
       "      <td>...</td>\n",
       "      <td>...</td>\n",
       "      <td>...</td>\n",
       "      <td>...</td>\n",
       "      <td>...</td>\n",
       "      <td>...</td>\n",
       "      <td>...</td>\n",
       "      <td>...</td>\n",
       "      <td>...</td>\n",
       "      <td>...</td>\n",
       "      <td>...</td>\n",
       "      <td>...</td>\n",
       "      <td>...</td>\n",
       "      <td>...</td>\n",
       "    </tr>\n",
       "    <tr>\n",
       "      <th>492</th>\n",
       "      <td>492</td>\n",
       "      <td>76</td>\n",
       "      <td>22</td>\n",
       "      <td>35</td>\n",
       "      <td>72</td>\n",
       "      <td>40</td>\n",
       "      <td>37</td>\n",
       "      <td>80</td>\n",
       "      <td>58</td>\n",
       "      <td>65</td>\n",
       "      <td>...</td>\n",
       "      <td>11</td>\n",
       "      <td>60</td>\n",
       "      <td>32</td>\n",
       "      <td>67</td>\n",
       "      <td>21</td>\n",
       "      <td>7</td>\n",
       "      <td>146</td>\n",
       "      <td>5</td>\n",
       "      <td>87</td>\n",
       "      <td>44</td>\n",
       "    </tr>\n",
       "    <tr>\n",
       "      <th>493</th>\n",
       "      <td>493</td>\n",
       "      <td>76</td>\n",
       "      <td>22</td>\n",
       "      <td>35</td>\n",
       "      <td>72</td>\n",
       "      <td>40</td>\n",
       "      <td>37</td>\n",
       "      <td>80</td>\n",
       "      <td>58</td>\n",
       "      <td>65</td>\n",
       "      <td>...</td>\n",
       "      <td>11</td>\n",
       "      <td>60</td>\n",
       "      <td>32</td>\n",
       "      <td>67</td>\n",
       "      <td>21</td>\n",
       "      <td>7</td>\n",
       "      <td>146</td>\n",
       "      <td>5</td>\n",
       "      <td>87</td>\n",
       "      <td>44</td>\n",
       "    </tr>\n",
       "    <tr>\n",
       "      <th>494</th>\n",
       "      <td>494</td>\n",
       "      <td>76</td>\n",
       "      <td>22</td>\n",
       "      <td>35</td>\n",
       "      <td>72</td>\n",
       "      <td>40</td>\n",
       "      <td>37</td>\n",
       "      <td>80</td>\n",
       "      <td>58</td>\n",
       "      <td>65</td>\n",
       "      <td>...</td>\n",
       "      <td>11</td>\n",
       "      <td>60</td>\n",
       "      <td>32</td>\n",
       "      <td>67</td>\n",
       "      <td>21</td>\n",
       "      <td>7</td>\n",
       "      <td>146</td>\n",
       "      <td>5</td>\n",
       "      <td>87</td>\n",
       "      <td>44</td>\n",
       "    </tr>\n",
       "    <tr>\n",
       "      <th>495</th>\n",
       "      <td>495</td>\n",
       "      <td>76</td>\n",
       "      <td>22</td>\n",
       "      <td>35</td>\n",
       "      <td>72</td>\n",
       "      <td>40</td>\n",
       "      <td>37</td>\n",
       "      <td>80</td>\n",
       "      <td>58</td>\n",
       "      <td>65</td>\n",
       "      <td>...</td>\n",
       "      <td>11</td>\n",
       "      <td>60</td>\n",
       "      <td>32</td>\n",
       "      <td>67</td>\n",
       "      <td>21</td>\n",
       "      <td>7</td>\n",
       "      <td>146</td>\n",
       "      <td>5</td>\n",
       "      <td>87</td>\n",
       "      <td>44</td>\n",
       "    </tr>\n",
       "    <tr>\n",
       "      <th>496</th>\n",
       "      <td>496</td>\n",
       "      <td>76</td>\n",
       "      <td>22</td>\n",
       "      <td>35</td>\n",
       "      <td>72</td>\n",
       "      <td>40</td>\n",
       "      <td>37</td>\n",
       "      <td>80</td>\n",
       "      <td>58</td>\n",
       "      <td>65</td>\n",
       "      <td>...</td>\n",
       "      <td>11</td>\n",
       "      <td>60</td>\n",
       "      <td>32</td>\n",
       "      <td>67</td>\n",
       "      <td>21</td>\n",
       "      <td>7</td>\n",
       "      <td>146</td>\n",
       "      <td>5</td>\n",
       "      <td>87</td>\n",
       "      <td>44</td>\n",
       "    </tr>\n",
       "  </tbody>\n",
       "</table>\n",
       "<p>497 rows × 21 columns</p>\n",
       "</div>"
      ],
      "text/plain": [
       "     user_id   0   1   2   3   4   5   6   7   8  ...  10  11  12  13  14  15  \\\n",
       "0          0  76  22  35  72  40  37  80  58  65  ...  11  60  32  67  21   7   \n",
       "1          1  76  22  35  72  40  37  80  58  65  ...  11  60  32  67  21   7   \n",
       "2          2  76  22  35  72  40  37  80  58  65  ...  11  60  32  67  21   7   \n",
       "3          3  76  22  35  72  40  37  80  58  65  ...  11  60  32  67  21   7   \n",
       "4          4  76  22  35  72  40  37  80  58  65  ...  11  60  32  67  21   7   \n",
       "..       ...  ..  ..  ..  ..  ..  ..  ..  ..  ..  ...  ..  ..  ..  ..  ..  ..   \n",
       "492      492  76  22  35  72  40  37  80  58  65  ...  11  60  32  67  21   7   \n",
       "493      493  76  22  35  72  40  37  80  58  65  ...  11  60  32  67  21   7   \n",
       "494      494  76  22  35  72  40  37  80  58  65  ...  11  60  32  67  21   7   \n",
       "495      495  76  22  35  72  40  37  80  58  65  ...  11  60  32  67  21   7   \n",
       "496      496  76  22  35  72  40  37  80  58  65  ...  11  60  32  67  21   7   \n",
       "\n",
       "      16  17  18  19  \n",
       "0    146   5  87  44  \n",
       "1    146   5  87  44  \n",
       "2    146   5  87  44  \n",
       "3    146   5  87  44  \n",
       "4    146   5  87  44  \n",
       "..   ...  ..  ..  ..  \n",
       "492  146   5  87  44  \n",
       "493  146   5  87  44  \n",
       "494  146   5  87  44  \n",
       "495  146   5  87  44  \n",
       "496  146   5  87  44  \n",
       "\n",
       "[497 rows x 21 columns]"
      ]
     },
     "execution_count": 97,
     "metadata": {},
     "output_type": "execute_result"
    }
   ],
   "source": [
    "baseline_1_df"
   ]
  },
  {
   "cell_type": "code",
   "execution_count": null,
   "metadata": {},
   "outputs": [],
   "source": []
  }
 ],
 "metadata": {
  "hide_input": false,
  "kernelspec": {
   "display_name": "Python 3",
   "language": "python",
   "name": "python3"
  },
  "language_info": {
   "codemirror_mode": {
    "name": "ipython",
    "version": 3
   },
   "file_extension": ".py",
   "mimetype": "text/x-python",
   "name": "python",
   "nbconvert_exporter": "python",
   "pygments_lexer": "ipython3",
   "version": "3.7.4"
  },
  "toc": {
   "base_numbering": 1,
   "nav_menu": {},
   "number_sections": true,
   "sideBar": true,
   "skip_h1_title": false,
   "title_cell": "Table of Contents",
   "title_sidebar": "Contents",
   "toc_cell": false,
   "toc_position": {},
   "toc_section_display": true,
   "toc_window_display": false
  },
  "varInspector": {
   "cols": {
    "lenName": 16,
    "lenType": 16,
    "lenVar": 40
   },
   "kernels_config": {
    "python": {
     "delete_cmd_postfix": "",
     "delete_cmd_prefix": "del ",
     "library": "var_list.py",
     "varRefreshCmd": "print(var_dic_list())"
    },
    "r": {
     "delete_cmd_postfix": ") ",
     "delete_cmd_prefix": "rm(",
     "library": "var_list.r",
     "varRefreshCmd": "cat(var_dic_list()) "
    }
   },
   "types_to_exclude": [
    "module",
    "function",
    "builtin_function_or_method",
    "instance",
    "_Feature"
   ],
   "window_display": false
  }
 },
 "nbformat": 4,
 "nbformat_minor": 2
}
